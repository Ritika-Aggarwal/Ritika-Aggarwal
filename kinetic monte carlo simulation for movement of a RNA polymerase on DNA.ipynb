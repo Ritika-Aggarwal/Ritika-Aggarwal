{
 "cells": [
  {
   "cell_type": "code",
   "execution_count": 16,
   "metadata": {},
   "outputs": [],
   "source": [
    "#import the required packages\n",
    "import numpy as np\n",
    "import math\n",
    "from math import log\n",
    "import random\n",
    "import matplotlib.pyplot as plt\n",
    "from IPython.display import clear_output\n",
    "import statistics"
   ]
  },
  {
   "cell_type": "code",
   "execution_count": 17,
   "metadata": {},
   "outputs": [],
   "source": [
    "def get_ran(min_value, max_value):\n",
    "    \"\"\"\n",
    "    This function gets a random number from a uniform distribution between\n",
    "    the two input values [min_value, max_value] inclusively\n",
    "    Args:\n",
    "    - min_value (float)\n",
    "    - max_value (float)\n",
    "    Return:\n",
    "    - Random number between this range (float)\n",
    "    \"\"\"\n",
    "    range = max_value - min_value\n",
    "    choice = random.uniform(0,1)\n",
    "    return min_value + range*choice"
   ]
  },
  {
   "cell_type": "code",
   "execution_count": 18,
   "metadata": {},
   "outputs": [],
   "source": [
    "#define a position of protein in the DNA\n",
    "x = 200\n",
    "#length of the DNA sequence\n",
    "l = 600\n",
    "#define t as total time at x = 0\n",
    "t = 0\n",
    "#define e \n",
    "e = 2.718\n",
    "#create some empty list to store the values to plot the graphs later\n",
    "x_list = []\n",
    "t_list = []\n",
    "tt_list = []\n",
    "p_n = []\n",
    "mc_steps = []\n",
    "#condition for the rate - protein cannot go forward if x will come at 600\n",
    "#and it cannot go back if x = 1\n",
    "def mc(n):\n",
    "    x = random.randint(1,600); l = 600; t = 0; e = 2.718\n",
    "    kf = 5; kb = 3\n",
    "    for i in range(n):\n",
    "        #define the rate along with the conditions \n",
    "        if x<l:\n",
    "            kf = 5\n",
    "        else:\n",
    "            kf = 0\n",
    "        \n",
    "        if x>1:\n",
    "            kb = 3\n",
    "        else:\n",
    "            kb = 0\n",
    "        \n",
    "        #step 2 - compute probability of forward event happening and backward event happening\n",
    "        #pf directly proportional to kf\n",
    "        #pb directly proportional to kb\n",
    "        a = 1/(kb+kf)\n",
    "        pf = kf*a\n",
    "        pb = kb*a\n",
    "        \n",
    "        \n",
    "        #step 3 - choose which happen will happen based on probability\n",
    "        r1 = get_ran(0,1)\n",
    "        r2 = get_ran(0,1)\n",
    "        if r1<pf:\n",
    "            x = x+1\n",
    "        else:\n",
    "            x = x-1\n",
    "            \n",
    "        x_list.append(x)\n",
    "        \n",
    "        #step 4 - compute del(t)\n",
    "        \n",
    "        dt = (-1)*a*(math.log(r2))\n",
    "        \n",
    "        t_list.append(dt)\n",
    "        tt_list.append(t)\n",
    "        \n",
    "    for i in range(n):\n",
    "        mc_steps.append(i)\n",
    "    \n",
    "        \n",
    "    plt.plot(mc_steps, x_list)\n",
    "    plt.xlabel(\"monte carlo steps\")\n",
    "    plt.ylabel(\"position of protein\")\n",
    "    plt.show()\n",
    "    \n",
    "    \n",
    "    "
   ]
  },
  {
   "cell_type": "code",
   "execution_count": 19,
   "metadata": {},
   "outputs": [
    {
     "data": {
      "image/png": "[encoded data removed]",
      "text/plain": [
       "<Figure size 432x288 with 1 Axes>"
      ]
     },
     "metadata": {
      "needs_background": "light"
     },
     "output_type": "display_data"
    }
   ],
   "source": [
    "mc(1000000)"
   ]
  },
  {
   "cell_type": "code",
   "execution_count": 20,
   "metadata": {},
   "outputs": [
    {
     "data": {
      "image/png": "[encoded data removed]",
      "text/plain": [
       "<Figure size 432x288 with 1 Axes>"
      ]
     },
     "metadata": {
      "needs_background": "light"
     },
     "output_type": "display_data"
    }
   ],
   "source": [
    "plt.hist(t_list,bins = 100, density = True)\n",
    "plt.xlabel(\"delt\")\n",
    "plt.ylabel(\"frequency\")\n",
    "plt.show()"
   ]
  },
  {
   "cell_type": "code",
   "execution_count": 21,
   "metadata": {},
   "outputs": [
    {
     "data": {
      "image/png": "[encoded data removed]",
      "text/plain": [
       "<Figure size 432x288 with 1 Axes>"
      ]
     },
     "metadata": {
      "needs_background": "light"
     },
     "output_type": "display_data"
    }
   ],
   "source": [
    "n, bins, patches = plt.hist(t_list, bins = 100, density = True)"
   ]
  },
  {
   "cell_type": "code",
   "execution_count": 22,
   "metadata": {},
   "outputs": [
    {
     "name": "stdout",
     "output_type": "stream",
     "text": [
      "Area below the integral:  1.0\n"
     ]
    }
   ],
   "source": [
    "print(\"Area below the integral: \", np.sum(n * np.diff(bins)))"
   ]
  },
  {
   "cell_type": "code",
   "execution_count": null,
   "metadata": {},
   "outputs": [],
   "source": []
  },
  {
   "cell_type": "code",
   "execution_count": 23,
   "metadata": {},
   "outputs": [
    {
     "name": "stdout",
     "output_type": "stream",
     "text": [
      "Area below the integral:  1.0\n"
     ]
    }
   ],
   "source": [
    "print(\"Area below the integral: \", np.sum(n * np.diff(bins)))"
   ]
  },
  {
   "cell_type": "code",
   "execution_count": 24,
   "metadata": {},
   "outputs": [],
   "source": [
    "area = np.sum(n * np.diff(bins))"
   ]
  },
  {
   "cell_type": "code",
   "execution_count": 25,
   "metadata": {},
   "outputs": [
    {
     "data": {
      "text/plain": [
       "array([1.83143030e-07, 4.27421162e-02, 8.54840493e-02, 1.28225982e-01,\n",
       "       1.70967915e-01, 2.13709848e-01, 2.56451781e-01, 2.99193715e-01,\n",
       "       3.41935648e-01, 3.84677581e-01, 4.27419514e-01, 4.70161447e-01,\n",
       "       5.12903380e-01, 5.55645313e-01, 5.98387246e-01, 6.41129179e-01,\n",
       "       6.83871112e-01, 7.26613045e-01, 7.69354978e-01, 8.12096911e-01,\n",
       "       8.54838844e-01, 8.97580777e-01, 9.40322710e-01, 9.83064644e-01,\n",
       "       1.02580658e+00, 1.06854851e+00, 1.11129044e+00, 1.15403238e+00,\n",
       "       1.19677431e+00, 1.23951624e+00, 1.28225817e+00, 1.32500011e+00,\n",
       "       1.36774204e+00, 1.41048397e+00, 1.45322591e+00, 1.49596784e+00,\n",
       "       1.53870977e+00, 1.58145171e+00, 1.62419364e+00, 1.66693557e+00,\n",
       "       1.70967751e+00, 1.75241944e+00, 1.79516137e+00, 1.83790330e+00,\n",
       "       1.88064524e+00, 1.92338717e+00, 1.96612910e+00, 2.00887104e+00,\n",
       "       2.05161297e+00, 2.09435490e+00, 2.13709684e+00, 2.17983877e+00,\n",
       "       2.22258070e+00, 2.26532264e+00, 2.30806457e+00, 2.35080650e+00,\n",
       "       2.39354843e+00, 2.43629037e+00, 2.47903230e+00, 2.52177423e+00,\n",
       "       2.56451617e+00, 2.60725810e+00, 2.65000003e+00, 2.69274197e+00,\n",
       "       2.73548390e+00, 2.77822583e+00, 2.82096777e+00, 2.86370970e+00,\n",
       "       2.90645163e+00, 2.94919356e+00, 2.99193550e+00, 3.03467743e+00,\n",
       "       3.07741936e+00, 3.12016130e+00, 3.16290323e+00, 3.20564516e+00,\n",
       "       3.24838710e+00, 3.29112903e+00, 3.33387096e+00, 3.37661289e+00,\n",
       "       3.41935483e+00, 3.46209676e+00, 3.50483869e+00, 3.54758063e+00,\n",
       "       3.59032256e+00, 3.63306449e+00, 3.67580643e+00, 3.71854836e+00,\n",
       "       3.76129029e+00, 3.80403223e+00, 3.84677416e+00, 3.88951609e+00,\n",
       "       3.93225802e+00, 3.97499996e+00, 4.01774189e+00, 4.06048382e+00,\n",
       "       4.10322576e+00, 4.14596769e+00, 4.18870962e+00, 4.23145156e+00,\n",
       "       4.27419349e+00])"
      ]
     },
     "execution_count": 25,
     "metadata": {},
     "output_type": "execute_result"
    }
   ],
   "source": [
    "bins"
   ]
  },
  {
   "cell_type": "code",
   "execution_count": 26,
   "metadata": {},
   "outputs": [
    {
     "name": "stdout",
     "output_type": "stream",
     "text": [
      "patches:  <a list of 100 Patch objects>\n",
      "Rectangle(xy=(1.83143e-07, 0), width=0.0427419, height=5.97629, angle=0)\n",
      "Rectangle(xy=(0.0427421, 0), width=0.0427419, height=4.34625, angle=0)\n",
      "Rectangle(xy=(0.085484, 0), width=0.0427419, height=3.16921, angle=0)\n",
      "Rectangle(xy=(0.128226, 0), width=0.0427419, height=2.34905, angle=0)\n",
      "Rectangle(xy=(0.170968, 0), width=0.0427419, height=1.70612, angle=0)\n",
      "Rectangle(xy=(0.21371, 0), width=0.0427419, height=1.28721, angle=0)\n",
      "Rectangle(xy=(0.256452, 0), width=0.0427419, height=0.957935, angle=0)\n",
      "Rectangle(xy=(0.299194, 0), width=0.0427419, height=0.724511, angle=0)\n",
      "Rectangle(xy=(0.341936, 0), width=0.0427419, height=0.549811, angle=0)\n",
      "Rectangle(xy=(0.384678, 0), width=0.0427419, height=0.429906, angle=0)\n"
     ]
    }
   ],
   "source": [
    "print(\"patches: \", patches)\n",
    "for i in range(10):\n",
    "    print(patches[i])"
   ]
  },
  {
   "cell_type": "code",
   "execution_count": 27,
   "metadata": {},
   "outputs": [
    {
     "name": "stdout",
     "output_type": "stream",
     "text": [
      "[255438 185767 135458 100403  72923  55018  40944  30967  23500  18375\n",
      "  14176  11370   8821   7303   5898   4800   4124   3372   2862   2449\n",
      "   2035   1862   1549   1329   1153    993    824    761    669    613\n",
      "    519    420    422    371    289    271    220    200    174    175\n",
      "    132    128    106    106     80     72     69     60     44     39\n",
      "     47     37     34     20     29     20     25     15     14     15\n",
      "     13     11     13      6      6      2      5      2      1      3\n",
      "      6      1      2      3      1      2      1      3      3      0\n",
      "      1      0      0      1      0      1      0      0      0      0\n",
      "      0      0      1      0      2      0      0      0      0      1]\n"
     ]
    }
   ],
   "source": [
    "#compute the count of each bin of histogram made for t_list\n",
    "counts, bin_edges = np.histogram(t_list, bins=100)\n",
    "print(counts)"
   ]
  },
  {
   "cell_type": "code",
   "execution_count": 28,
   "metadata": {},
   "outputs": [
    {
     "name": "stdout",
     "output_type": "stream",
     "text": [
      "[2.55438e-01 1.85767e-01 1.35458e-01 1.00403e-01 7.29230e-02 5.50180e-02\n",
      " 4.09440e-02 3.09670e-02 2.35000e-02 1.83750e-02 1.41760e-02 1.13700e-02\n",
      " 8.82100e-03 7.30300e-03 5.89800e-03 4.80000e-03 4.12400e-03 3.37200e-03\n",
      " 2.86200e-03 2.44900e-03 2.03500e-03 1.86200e-03 1.54900e-03 1.32900e-03\n",
      " 1.15300e-03 9.93000e-04 8.24000e-04 7.61000e-04 6.69000e-04 6.13000e-04\n",
      " 5.19000e-04 4.20000e-04 4.22000e-04 3.71000e-04 2.89000e-04 2.71000e-04\n",
      " 2.20000e-04 2.00000e-04 1.74000e-04 1.75000e-04 1.32000e-04 1.28000e-04\n",
      " 1.06000e-04 1.06000e-04 8.00000e-05 7.20000e-05 6.90000e-05 6.00000e-05\n",
      " 4.40000e-05 3.90000e-05 4.70000e-05 3.70000e-05 3.40000e-05 2.00000e-05\n",
      " 2.90000e-05 2.00000e-05 2.50000e-05 1.50000e-05 1.40000e-05 1.50000e-05\n",
      " 1.30000e-05 1.10000e-05 1.30000e-05 6.00000e-06 6.00000e-06 2.00000e-06\n",
      " 5.00000e-06 2.00000e-06 1.00000e-06 3.00000e-06 6.00000e-06 1.00000e-06\n",
      " 2.00000e-06 3.00000e-06 1.00000e-06 2.00000e-06 1.00000e-06 3.00000e-06\n",
      " 3.00000e-06 0.00000e+00 1.00000e-06 0.00000e+00 0.00000e+00 1.00000e-06\n",
      " 0.00000e+00 1.00000e-06 0.00000e+00 0.00000e+00 0.00000e+00 0.00000e+00\n",
      " 0.00000e+00 0.00000e+00 1.00000e-06 0.00000e+00 2.00000e-06 0.00000e+00\n",
      " 0.00000e+00 0.00000e+00 0.00000e+00 1.00000e-06]\n"
     ]
    }
   ],
   "source": [
    "c = counts/sum(counts)\n",
    "print(c)"
   ]
  },
  {
   "cell_type": "code",
   "execution_count": 29,
   "metadata": {},
   "outputs": [],
   "source": [
    "new = c*counts"
   ]
  },
  {
   "cell_type": "code",
   "execution_count": null,
   "metadata": {},
   "outputs": [],
   "source": []
  },
  {
   "cell_type": "code",
   "execution_count": null,
   "metadata": {},
   "outputs": [],
   "source": []
  },
  {
   "cell_type": "code",
   "execution_count": null,
   "metadata": {},
   "outputs": [],
   "source": []
  }
 ],
 "metadata": {
  "kernelspec": {
   "display_name": "Python 3",
   "language": "python",
   "name": "python3"
  },
  "language_info": {
   "codemirror_mode": {
    "name": "ipython",
    "version": 3
   },
   "file_extension": ".py",
   "mimetype": "text/x-python",
   "name": "python",
   "nbconvert_exporter": "python",
   "pygments_lexer": "ipython3",
   "version": "3.7.3"
  }
 },
 "nbformat": 4,
 "nbformat_minor": 2
}
