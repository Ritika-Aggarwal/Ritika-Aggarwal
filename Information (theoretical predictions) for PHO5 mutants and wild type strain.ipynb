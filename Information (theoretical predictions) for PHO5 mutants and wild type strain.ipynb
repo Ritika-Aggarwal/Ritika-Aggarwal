{
 "cells": [
  {
   "cell_type": "code",
   "execution_count": 1,
   "metadata": {},
   "outputs": [],
   "source": [
    "import math\n",
    "#define the probability of n number of microstates\n",
    "def ent(n):\n",
    "    pr = 0\n",
    "    sum = 0\n",
    "    for i in range(n):\n",
    "        print(\"The probability of microstate\",i+1)\n",
    "        p =float(input())\n",
    "        if p == 0:\n",
    "            p = 0.0001\n",
    "        else:\n",
    "            p = p\n",
    "        pr += p\n",
    "        sum += p*math.log(p,2)\n",
    "    s = -(sum)\n",
    "    print(\"Entropy for your system =\",-sum)\n",
    "    print(\"sum of probablity=\", pr)\n",
    "    return s"
   ]
  },
  {
   "cell_type": "markdown",
   "metadata": {},
   "source": [
    "# Information for wild type (PHO4, PHO80, repressed PHO5 state and wild type TATA box)- figure 5E"
   ]
  },
  {
   "cell_type": "code",
   "execution_count": 2,
   "metadata": {},
   "outputs": [
    {
     "name": "stdout",
     "output_type": "stream",
     "text": [
      "The probability of microstate 1\n",
      "0.54\n",
      "The probability of microstate 2\n",
      "0.1\n",
      "The probability of microstate 3\n",
      "0.18\n",
      "The probability of microstate 4\n",
      "0.1\n",
      "The probability of microstate 5\n",
      "0.035\n",
      "The probability of microstate 6\n",
      "0.01\n",
      "The probability of microstate 7\n",
      "0.035\n",
      "The probability of microstate 8\n",
      "0.0001\n",
      "Entropy for your system = 1.9960587460632857\n",
      "sum of probablity= 1.0001\n"
     ]
    },
    {
     "data": {
      "text/plain": [
       "1.9960587460632857"
      ]
     },
     "execution_count": 2,
     "metadata": {},
     "output_type": "execute_result"
    }
   ],
   "source": [
    "ent(8)"
   ]
  },
  {
   "cell_type": "markdown",
   "metadata": {},
   "source": [
    "# Information for PHO4, pho80Δ(activated PHO5 state and wild type TATA box) - Figure 4E"
   ]
  },
  {
   "cell_type": "code",
   "execution_count": 9,
   "metadata": {},
   "outputs": [
    {
     "name": "stdout",
     "output_type": "stream",
     "text": [
      "The probability of microstate 1\n",
      "0.07\n",
      "The probability of microstate 2\n",
      "0.025\n",
      "The probability of microstate 3\n",
      "0.175\n",
      "The probability of microstate 4\n",
      "0.055\n",
      "The probability of microstate 5\n",
      "0.205\n",
      "The probability of microstate 6\n",
      "0.025\n",
      "The probability of microstate 7\n",
      "0.190\n",
      "The probability of microstate 8\n",
      "0.250\n",
      "Entropy for your system = 2.6287639566023606\n",
      "sum of probablity= 0.9950000000000001\n"
     ]
    },
    {
     "data": {
      "text/plain": [
       "2.6287639566023606"
      ]
     },
     "execution_count": 9,
     "metadata": {},
     "output_type": "execute_result"
    }
   ],
   "source": [
    "ent(8)"
   ]
  },
  {
   "cell_type": "markdown",
   "metadata": {},
   "source": [
    "# Information for PHO4, PHO80, pho2Δ(repressed PHO5 state and wild type TATA box) - Figure 5D"
   ]
  },
  {
   "cell_type": "code",
   "execution_count": 4,
   "metadata": {},
   "outputs": [
    {
     "name": "stdout",
     "output_type": "stream",
     "text": [
      "The probability of microstate 1\n",
      "0.51\n",
      "The probability of microstate 2\n",
      "0.1\n",
      "The probability of microstate 3\n",
      "0.195\n",
      "The probability of microstate 4\n",
      "0.1\n",
      "The probability of microstate 5\n",
      "0.04\n",
      "The probability of microstate 6\n",
      "0.02\n",
      "The probability of microstate 7\n",
      "0.03\n",
      "The probability of microstate 8\n",
      "0.005\n",
      "Entropy for your system = 2.108331338692017\n",
      "sum of probablity= 1.0\n"
     ]
    },
    {
     "data": {
      "text/plain": [
       "2.108331338692017"
      ]
     },
     "execution_count": 4,
     "metadata": {},
     "output_type": "execute_result"
    }
   ],
   "source": [
    "ent(8)"
   ]
  },
  {
   "cell_type": "markdown",
   "metadata": {},
   "source": [
    "# Information for pho4Δ, pho80Δ(repressed PHO5 state and mutant type TATA box) - Figure 5C"
   ]
  },
  {
   "cell_type": "code",
   "execution_count": 6,
   "metadata": {},
   "outputs": [
    {
     "name": "stdout",
     "output_type": "stream",
     "text": [
      "The probability of microstate 1\n",
      "0.65\n",
      "The probability of microstate 2\n",
      "0.075\n",
      "The probability of microstate 3\n",
      "0.18\n",
      "The probability of microstate 4\n",
      "0.075\n",
      "The probability of microstate 5\n",
      "0.01\n",
      "The probability of microstate 6\n",
      "0.001\n",
      "The probability of microstate 7\n",
      "0.01\n",
      "The probability of microstate 8\n",
      "0.001\n",
      "Entropy for your system = 1.5626285902746593\n",
      "sum of probablity= 1.0019999999999998\n"
     ]
    },
    {
     "data": {
      "text/plain": [
       "1.5626285902746593"
      ]
     },
     "execution_count": 6,
     "metadata": {},
     "output_type": "execute_result"
    }
   ],
   "source": [
    "ent(8)"
   ]
  },
  {
   "cell_type": "markdown",
   "metadata": {},
   "source": [
    "# Information for pho4[85-99], pho80Δ(partially activated PHO5 state and mutant type TATA box) - Figure 5B"
   ]
  },
  {
   "cell_type": "code",
   "execution_count": 7,
   "metadata": {},
   "outputs": [
    {
     "name": "stdout",
     "output_type": "stream",
     "text": [
      "The probability of microstate 1\n",
      "0.3\n",
      "The probability of microstate 2\n",
      "0.03\n",
      "The probability of microstate 3\n",
      "0.29\n",
      "The probability of microstate 4\n",
      "0.08\n",
      "The probability of microstate 5\n",
      "0.125\n",
      "The probability of microstate 6\n",
      "0.10\n",
      "The probability of microstate 7\n",
      "0.015\n",
      "The probability of microstate 8\n",
      "0.06\n",
      "Entropy for your system = 2.523878626718875\n",
      "sum of probablity= 0.9999999999999998\n"
     ]
    },
    {
     "data": {
      "text/plain": [
       "2.523878626718875"
      ]
     },
     "execution_count": 7,
     "metadata": {},
     "output_type": "execute_result"
    }
   ],
   "source": [
    "ent(8)"
   ]
  },
  {
   "cell_type": "markdown",
   "metadata": {},
   "source": [
    "# Information for PHO4, pho80Δ(activated PHO5 state and mutant type TATA box) - Figure 5A"
   ]
  },
  {
   "cell_type": "code",
   "execution_count": 8,
   "metadata": {},
   "outputs": [
    {
     "name": "stdout",
     "output_type": "stream",
     "text": [
      "The probability of microstate 1\n",
      "0.0547\n",
      "The probability of microstate 2\n",
      "0.0547\n",
      "The probability of microstate 3\n",
      "0.1569\n",
      "The probability of microstate 4\n",
      "0.0547\n",
      "The probability of microstate 5\n",
      "0.1881\n",
      "The probability of microstate 6\n",
      "0.0547\n",
      "The probability of microstate 7\n",
      "0.1881\n",
      "The probability of microstate 8\n",
      "0.2357\n",
      "Entropy for your system = 2.7347604109902397\n",
      "sum of probablity= 0.9875999999999998\n"
     ]
    },
    {
     "data": {
      "text/plain": [
       "2.7347604109902397"
      ]
     },
     "execution_count": 8,
     "metadata": {},
     "output_type": "execute_result"
    }
   ],
   "source": [
    "ent(8)"
   ]
  },
  {
   "cell_type": "code",
   "execution_count": null,
   "metadata": {},
   "outputs": [],
   "source": []
  }
 ],
 "metadata": {
  "kernelspec": {
   "display_name": "Python 3",
   "language": "python",
   "name": "python3"
  },
  "language_info": {
   "codemirror_mode": {
    "name": "ipython",
    "version": 3
   },
   "file_extension": ".py",
   "mimetype": "text/x-python",
   "name": "python",
   "nbconvert_exporter": "python",
   "pygments_lexer": "ipython3",
   "version": "3.7.3"
  }
 },
 "nbformat": 4,
 "nbformat_minor": 2
}
